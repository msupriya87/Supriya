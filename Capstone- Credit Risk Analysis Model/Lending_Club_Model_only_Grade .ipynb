{
 "cells": [
  {
   "cell_type": "markdown",
   "metadata": {},
   "source": [
    "# Credit Risk Analysis Model -Lending Club"
   ]
  },
  {
   "cell_type": "markdown",
   "metadata": {},
   "source": [
    "# __Model selection and Evaluation__"
   ]
  },
  {
   "cell_type": "code",
   "execution_count": 4,
   "metadata": {},
   "outputs": [],
   "source": [
    "#import all libraries\n",
    "\n",
    "import itertools\n",
    "import numpy as np\n",
    "import pandas as pd\n",
    "import seaborn as sns\n",
    "\n",
    "%matplotlib inline\n",
    "import matplotlib.pyplot as plt\n",
    "import matplotlib.gridspec as gridspec\n",
    "\n",
    "from sklearn import datasets\n",
    "\n",
    "from sklearn.ensemble import BaggingClassifier\n",
    "from sklearn.model_selection import cross_val_score\n",
    "from sklearn.model_selection import train_test_split\n",
    "from sklearn.neighbors import KNeighborsClassifier\n",
    "from sklearn.tree import DecisionTreeClassifier\n",
    "from sklearn.metrics import accuracy_score,auc,average_precision_score\n",
    "from sklearn.metrics import confusion_matrix\n",
    "from sklearn.metrics import precision_recall_curve\n",
    "from sklearn.metrics import precision_score\n",
    "from sklearn.metrics import recall_score\n",
    "from sklearn.metrics import roc_auc_score\n",
    "from sklearn.metrics import roc_curve\n",
    "\n",
    "from mlxtend.plotting import plot_learning_curves\n",
    "from mlxtend.plotting import plot_decision_regions"
   ]
  },
  {
   "cell_type": "code",
   "execution_count": 5,
   "metadata": {},
   "outputs": [],
   "source": [
    "#upload the data with out Grade\n",
    "data=pd.read_csv('../.../../Capstone Project/data_without_dummy.csv')"
   ]
  },
  {
   "cell_type": "code",
   "execution_count": 6,
   "metadata": {},
   "outputs": [
    {
     "data": {
      "text/html": [
       "<div>\n",
       "<style scoped>\n",
       "    .dataframe tbody tr th:only-of-type {\n",
       "        vertical-align: middle;\n",
       "    }\n",
       "\n",
       "    .dataframe tbody tr th {\n",
       "        vertical-align: top;\n",
       "    }\n",
       "\n",
       "    .dataframe thead th {\n",
       "        text-align: right;\n",
       "    }\n",
       "</style>\n",
       "<table border=\"1\" class=\"dataframe\">\n",
       "  <thead>\n",
       "    <tr style=\"text-align: right;\">\n",
       "      <th></th>\n",
       "      <th>Loan Amount</th>\n",
       "      <th>Term</th>\n",
       "      <th>Interest Rate</th>\n",
       "      <th>Installment</th>\n",
       "      <th>Grade</th>\n",
       "      <th>Sub Grade</th>\n",
       "      <th>Employee Length</th>\n",
       "      <th>Home Ownership</th>\n",
       "      <th>Annual Income</th>\n",
       "      <th>Verification Status</th>\n",
       "      <th>...</th>\n",
       "      <th>Fico Range Low</th>\n",
       "      <th>Fico Range High</th>\n",
       "      <th>Open Acc</th>\n",
       "      <th>Pub Rec</th>\n",
       "      <th>Revol Bal</th>\n",
       "      <th>Revol Util</th>\n",
       "      <th>Total Acc</th>\n",
       "      <th>Application Type</th>\n",
       "      <th>Mortagage Account</th>\n",
       "      <th>Pub Rec Bankruptcies</th>\n",
       "    </tr>\n",
       "  </thead>\n",
       "  <tbody>\n",
       "    <tr>\n",
       "      <th>0</th>\n",
       "      <td>17000.0</td>\n",
       "      <td>0</td>\n",
       "      <td>19.03</td>\n",
       "      <td>623.42</td>\n",
       "      <td>D</td>\n",
       "      <td>D3</td>\n",
       "      <td>1</td>\n",
       "      <td>MORTGAGE</td>\n",
       "      <td>105000.00</td>\n",
       "      <td>Not Verified</td>\n",
       "      <td>...</td>\n",
       "      <td>675.0</td>\n",
       "      <td>679.0</td>\n",
       "      <td>19.0</td>\n",
       "      <td>0.0</td>\n",
       "      <td>14878.0</td>\n",
       "      <td>26.3</td>\n",
       "      <td>37.0</td>\n",
       "      <td>0</td>\n",
       "      <td>1.0</td>\n",
       "      <td>0.0</td>\n",
       "    </tr>\n",
       "    <tr>\n",
       "      <th>1</th>\n",
       "      <td>12000.0</td>\n",
       "      <td>0</td>\n",
       "      <td>7.97</td>\n",
       "      <td>375.88</td>\n",
       "      <td>A</td>\n",
       "      <td>A5</td>\n",
       "      <td>10</td>\n",
       "      <td>MORTGAGE</td>\n",
       "      <td>115000.00</td>\n",
       "      <td>Not Verified</td>\n",
       "      <td>...</td>\n",
       "      <td>705.0</td>\n",
       "      <td>709.0</td>\n",
       "      <td>7.0</td>\n",
       "      <td>0.0</td>\n",
       "      <td>2125.0</td>\n",
       "      <td>27.6</td>\n",
       "      <td>14.0</td>\n",
       "      <td>0</td>\n",
       "      <td>3.0</td>\n",
       "      <td>0.0</td>\n",
       "    </tr>\n",
       "    <tr>\n",
       "      <th>2</th>\n",
       "      <td>30950.0</td>\n",
       "      <td>0</td>\n",
       "      <td>24.85</td>\n",
       "      <td>1228.12</td>\n",
       "      <td>E</td>\n",
       "      <td>E3</td>\n",
       "      <td>10</td>\n",
       "      <td>RENT</td>\n",
       "      <td>80000.00</td>\n",
       "      <td>Verified</td>\n",
       "      <td>...</td>\n",
       "      <td>695.0</td>\n",
       "      <td>699.0</td>\n",
       "      <td>19.0</td>\n",
       "      <td>0.0</td>\n",
       "      <td>18571.0</td>\n",
       "      <td>37.4</td>\n",
       "      <td>32.0</td>\n",
       "      <td>0</td>\n",
       "      <td>0.0</td>\n",
       "      <td>0.0</td>\n",
       "    </tr>\n",
       "    <tr>\n",
       "      <th>3</th>\n",
       "      <td>8000.0</td>\n",
       "      <td>0</td>\n",
       "      <td>13.59</td>\n",
       "      <td>271.84</td>\n",
       "      <td>C</td>\n",
       "      <td>C2</td>\n",
       "      <td>2</td>\n",
       "      <td>MORTGAGE</td>\n",
       "      <td>90000.00</td>\n",
       "      <td>Not Verified</td>\n",
       "      <td>...</td>\n",
       "      <td>660.0</td>\n",
       "      <td>664.0</td>\n",
       "      <td>22.0</td>\n",
       "      <td>0.0</td>\n",
       "      <td>13340.0</td>\n",
       "      <td>46.0</td>\n",
       "      <td>25.0</td>\n",
       "      <td>0</td>\n",
       "      <td>2.0</td>\n",
       "      <td>0.0</td>\n",
       "    </tr>\n",
       "    <tr>\n",
       "      <th>4</th>\n",
       "      <td>20000.0</td>\n",
       "      <td>1</td>\n",
       "      <td>19.03</td>\n",
       "      <td>519.15</td>\n",
       "      <td>D</td>\n",
       "      <td>D3</td>\n",
       "      <td>0</td>\n",
       "      <td>MORTGAGE</td>\n",
       "      <td>35000.00</td>\n",
       "      <td>Not Verified</td>\n",
       "      <td>...</td>\n",
       "      <td>665.0</td>\n",
       "      <td>669.0</td>\n",
       "      <td>10.0</td>\n",
       "      <td>0.0</td>\n",
       "      <td>1746.0</td>\n",
       "      <td>12.6</td>\n",
       "      <td>15.0</td>\n",
       "      <td>0</td>\n",
       "      <td>0.0</td>\n",
       "      <td>0.0</td>\n",
       "    </tr>\n",
       "    <tr>\n",
       "      <th>...</th>\n",
       "      <td>...</td>\n",
       "      <td>...</td>\n",
       "      <td>...</td>\n",
       "      <td>...</td>\n",
       "      <td>...</td>\n",
       "      <td>...</td>\n",
       "      <td>...</td>\n",
       "      <td>...</td>\n",
       "      <td>...</td>\n",
       "      <td>...</td>\n",
       "      <td>...</td>\n",
       "      <td>...</td>\n",
       "      <td>...</td>\n",
       "      <td>...</td>\n",
       "      <td>...</td>\n",
       "      <td>...</td>\n",
       "      <td>...</td>\n",
       "      <td>...</td>\n",
       "      <td>...</td>\n",
       "      <td>...</td>\n",
       "      <td>...</td>\n",
       "    </tr>\n",
       "    <tr>\n",
       "      <th>73878</th>\n",
       "      <td>35175.0</td>\n",
       "      <td>0</td>\n",
       "      <td>17.09</td>\n",
       "      <td>1255.67</td>\n",
       "      <td>D</td>\n",
       "      <td>D1</td>\n",
       "      <td>10</td>\n",
       "      <td>MORTGAGE</td>\n",
       "      <td>100000.00</td>\n",
       "      <td>Verified</td>\n",
       "      <td>...</td>\n",
       "      <td>680.0</td>\n",
       "      <td>684.0</td>\n",
       "      <td>13.0</td>\n",
       "      <td>0.0</td>\n",
       "      <td>36862.0</td>\n",
       "      <td>75.5</td>\n",
       "      <td>29.0</td>\n",
       "      <td>1</td>\n",
       "      <td>5.0</td>\n",
       "      <td>0.0</td>\n",
       "    </tr>\n",
       "    <tr>\n",
       "      <th>73879</th>\n",
       "      <td>7400.0</td>\n",
       "      <td>0</td>\n",
       "      <td>17.09</td>\n",
       "      <td>264.17</td>\n",
       "      <td>D</td>\n",
       "      <td>D1</td>\n",
       "      <td>1</td>\n",
       "      <td>MORTGAGE</td>\n",
       "      <td>49900.00</td>\n",
       "      <td>Source Verified</td>\n",
       "      <td>...</td>\n",
       "      <td>660.0</td>\n",
       "      <td>664.0</td>\n",
       "      <td>13.0</td>\n",
       "      <td>0.0</td>\n",
       "      <td>5422.0</td>\n",
       "      <td>25.3</td>\n",
       "      <td>34.0</td>\n",
       "      <td>0</td>\n",
       "      <td>3.0</td>\n",
       "      <td>0.0</td>\n",
       "    </tr>\n",
       "    <tr>\n",
       "      <th>73880</th>\n",
       "      <td>20000.0</td>\n",
       "      <td>0</td>\n",
       "      <td>12.62</td>\n",
       "      <td>670.23</td>\n",
       "      <td>C</td>\n",
       "      <td>C1</td>\n",
       "      <td>10</td>\n",
       "      <td>OWN</td>\n",
       "      <td>50000.00</td>\n",
       "      <td>Not Verified</td>\n",
       "      <td>...</td>\n",
       "      <td>700.0</td>\n",
       "      <td>704.0</td>\n",
       "      <td>12.0</td>\n",
       "      <td>0.0</td>\n",
       "      <td>7966.0</td>\n",
       "      <td>28.7</td>\n",
       "      <td>16.0</td>\n",
       "      <td>0</td>\n",
       "      <td>0.0</td>\n",
       "      <td>0.0</td>\n",
       "    </tr>\n",
       "    <tr>\n",
       "      <th>73881</th>\n",
       "      <td>12000.0</td>\n",
       "      <td>1</td>\n",
       "      <td>12.62</td>\n",
       "      <td>270.71</td>\n",
       "      <td>C</td>\n",
       "      <td>C1</td>\n",
       "      <td>0</td>\n",
       "      <td>MORTGAGE</td>\n",
       "      <td>89625.39</td>\n",
       "      <td>Not Verified</td>\n",
       "      <td>...</td>\n",
       "      <td>660.0</td>\n",
       "      <td>664.0</td>\n",
       "      <td>10.0</td>\n",
       "      <td>0.0</td>\n",
       "      <td>18601.0</td>\n",
       "      <td>90.3</td>\n",
       "      <td>37.0</td>\n",
       "      <td>0</td>\n",
       "      <td>1.0</td>\n",
       "      <td>0.0</td>\n",
       "    </tr>\n",
       "    <tr>\n",
       "      <th>73882</th>\n",
       "      <td>14000.0</td>\n",
       "      <td>0</td>\n",
       "      <td>13.59</td>\n",
       "      <td>475.71</td>\n",
       "      <td>C</td>\n",
       "      <td>C2</td>\n",
       "      <td>2</td>\n",
       "      <td>OWN</td>\n",
       "      <td>80000.00</td>\n",
       "      <td>Source Verified</td>\n",
       "      <td>...</td>\n",
       "      <td>660.0</td>\n",
       "      <td>664.0</td>\n",
       "      <td>11.0</td>\n",
       "      <td>0.0</td>\n",
       "      <td>1461.0</td>\n",
       "      <td>4.1</td>\n",
       "      <td>21.0</td>\n",
       "      <td>0</td>\n",
       "      <td>0.0</td>\n",
       "      <td>0.0</td>\n",
       "    </tr>\n",
       "  </tbody>\n",
       "</table>\n",
       "<p>73883 rows × 24 columns</p>\n",
       "</div>"
      ],
      "text/plain": [
       "       Loan Amount  Term  Interest Rate  Installment Grade Sub Grade  \\\n",
       "0          17000.0     0          19.03       623.42     D        D3   \n",
       "1          12000.0     0           7.97       375.88     A        A5   \n",
       "2          30950.0     0          24.85      1228.12     E        E3   \n",
       "3           8000.0     0          13.59       271.84     C        C2   \n",
       "4          20000.0     1          19.03       519.15     D        D3   \n",
       "...            ...   ...            ...          ...   ...       ...   \n",
       "73878      35175.0     0          17.09      1255.67     D        D1   \n",
       "73879       7400.0     0          17.09       264.17     D        D1   \n",
       "73880      20000.0     0          12.62       670.23     C        C1   \n",
       "73881      12000.0     1          12.62       270.71     C        C1   \n",
       "73882      14000.0     0          13.59       475.71     C        C2   \n",
       "\n",
       "       Employee Length Home Ownership  Annual Income Verification Status  ...  \\\n",
       "0                    1       MORTGAGE      105000.00        Not Verified  ...   \n",
       "1                   10       MORTGAGE      115000.00        Not Verified  ...   \n",
       "2                   10           RENT       80000.00            Verified  ...   \n",
       "3                    2       MORTGAGE       90000.00        Not Verified  ...   \n",
       "4                    0       MORTGAGE       35000.00        Not Verified  ...   \n",
       "...                ...            ...            ...                 ...  ...   \n",
       "73878               10       MORTGAGE      100000.00            Verified  ...   \n",
       "73879                1       MORTGAGE       49900.00     Source Verified  ...   \n",
       "73880               10            OWN       50000.00        Not Verified  ...   \n",
       "73881                0       MORTGAGE       89625.39        Not Verified  ...   \n",
       "73882                2            OWN       80000.00     Source Verified  ...   \n",
       "\n",
       "       Fico Range Low Fico Range High Open Acc  Pub Rec  Revol Bal  \\\n",
       "0               675.0           679.0     19.0      0.0    14878.0   \n",
       "1               705.0           709.0      7.0      0.0     2125.0   \n",
       "2               695.0           699.0     19.0      0.0    18571.0   \n",
       "3               660.0           664.0     22.0      0.0    13340.0   \n",
       "4               665.0           669.0     10.0      0.0     1746.0   \n",
       "...               ...             ...      ...      ...        ...   \n",
       "73878           680.0           684.0     13.0      0.0    36862.0   \n",
       "73879           660.0           664.0     13.0      0.0     5422.0   \n",
       "73880           700.0           704.0     12.0      0.0     7966.0   \n",
       "73881           660.0           664.0     10.0      0.0    18601.0   \n",
       "73882           660.0           664.0     11.0      0.0     1461.0   \n",
       "\n",
       "       Revol Util  Total Acc  Application Type  Mortagage Account  \\\n",
       "0            26.3       37.0                 0                1.0   \n",
       "1            27.6       14.0                 0                3.0   \n",
       "2            37.4       32.0                 0                0.0   \n",
       "3            46.0       25.0                 0                2.0   \n",
       "4            12.6       15.0                 0                0.0   \n",
       "...           ...        ...               ...                ...   \n",
       "73878        75.5       29.0                 1                5.0   \n",
       "73879        25.3       34.0                 0                3.0   \n",
       "73880        28.7       16.0                 0                0.0   \n",
       "73881        90.3       37.0                 0                1.0   \n",
       "73882         4.1       21.0                 0                0.0   \n",
       "\n",
       "       Pub Rec Bankruptcies  \n",
       "0                       0.0  \n",
       "1                       0.0  \n",
       "2                       0.0  \n",
       "3                       0.0  \n",
       "4                       0.0  \n",
       "...                     ...  \n",
       "73878                   0.0  \n",
       "73879                   0.0  \n",
       "73880                   0.0  \n",
       "73881                   0.0  \n",
       "73882                   0.0  \n",
       "\n",
       "[73883 rows x 24 columns]"
      ]
     },
     "execution_count": 6,
     "metadata": {},
     "output_type": "execute_result"
    }
   ],
   "source": [
    "data"
   ]
  },
  {
   "cell_type": "code",
   "execution_count": 11,
   "metadata": {},
   "outputs": [],
   "source": [
    "grade_dict={'A':1.,'B':2.,'C':3.,'D':4.,'E':5.,'F':6.,'G':7.,'None':np.nan}\n",
    "data['Grade']=data[\"Grade\"].apply(grade_dict.get)"
   ]
  },
  {
   "cell_type": "markdown",
   "metadata": {},
   "source": [
    "# Baseline model"
   ]
  },
  {
   "cell_type": "code",
   "execution_count": 12,
   "metadata": {},
   "outputs": [],
   "source": [
    "# set target varibale and independent variable\n",
    "y=data['Loan Status']\n",
    "x=data[['Grade']]\n"
   ]
  },
  {
   "cell_type": "markdown",
   "metadata": {},
   "source": [
    "# Balancing oversampling dataset"
   ]
  },
  {
   "cell_type": "code",
   "execution_count": 13,
   "metadata": {},
   "outputs": [],
   "source": [
    "#using SMOTE function to balancing the data\n",
    "from imblearn.over_sampling import SMOTE\n",
    "\n",
    "sm = SMOTE()\n",
    "x,y = sm.fit_resample(x, y)\n"
   ]
  },
  {
   "cell_type": "code",
   "execution_count": 14,
   "metadata": {},
   "outputs": [
    {
     "name": "stdout",
     "output_type": "stream",
     "text": [
      "oversample length of x : 105870\n",
      "oversample length of x : 105870\n"
     ]
    }
   ],
   "source": [
    "print(f'oversample length of x : {len(x)}')\n",
    "print(f'oversample length of x : {len(y)}')"
   ]
  },
  {
   "cell_type": "code",
   "execution_count": 15,
   "metadata": {},
   "outputs": [
    {
     "data": {
      "text/plain": [
       "1    52935\n",
       "0    52935\n",
       "Name: Loan Status, dtype: int64"
      ]
     },
     "execution_count": 15,
     "metadata": {},
     "output_type": "execute_result"
    }
   ],
   "source": [
    "#Target balanced\n",
    "y.value_counts()"
   ]
  },
  {
   "cell_type": "markdown",
   "metadata": {},
   "source": [
    "# Define Base line features"
   ]
  },
  {
   "cell_type": "code",
   "execution_count": 16,
   "metadata": {},
   "outputs": [
    {
     "name": "stdout",
     "output_type": "stream",
     "text": [
      "(105870, 1)\n",
      "(105870,)\n"
     ]
    }
   ],
   "source": [
    "print(x.shape)\n",
    "print(y.shape)"
   ]
  },
  {
   "cell_type": "code",
   "execution_count": 17,
   "metadata": {},
   "outputs": [
    {
     "name": "stdout",
     "output_type": "stream",
     "text": [
      "(84696, 1) (21174, 1) (84696,) (21174,)\n"
     ]
    }
   ],
   "source": [
    "#split the data\n",
    "from sklearn.model_selection import train_test_split\n",
    "x_train,x_test,y_train,y_test=train_test_split(x,y,test_size=0.2,random_state=1234)\n",
    "print(x_train.shape,x_test.shape,y_train.shape,y_test.shape)"
   ]
  },
  {
   "cell_type": "code",
   "execution_count": 18,
   "metadata": {},
   "outputs": [],
   "source": [
    "#standralised the data\n",
    "from sklearn.preprocessing import StandardScaler\n",
    "sc = StandardScaler()\n",
    "x_train = sc.fit_transform(x_train)\n",
    "x_test=sc.transform(x_test)"
   ]
  },
  {
   "cell_type": "code",
   "execution_count": 19,
   "metadata": {},
   "outputs": [],
   "source": [
    "#define the function for print the score\n",
    "def print_score(clf, X_train, y_train, X_test, y_test, train=True):\n",
    "    if train:\n",
    "        print(\"Train Result:\\n\")\n",
    "        print(\"accuracy score: {0:.4f}\\n\".format(accuracy_score(y_train, clf.predict(X_train))))\n",
    "        print(\"Classification Report: \\n {}\\n\".format(classification_report(y_train, clf.predict(X_train))))\n",
    "        print(\"Confusion Matrix: \\n {}\\n\".format(confusion_matrix(y_train, clf.predict(X_train))))\n",
    "\n",
    "        res = cross_val_score(clf, X_train, y_train, cv=10, scoring='accuracy')\n",
    "        print(\"Average Accuracy: \\t {0:.4f}\".format(np.mean(res)))\n",
    "        print(\"Accuracy SD: \\t\\t {0:.4f}\".format(np.std(res)))\n",
    "    elif train==False:\n",
    "        print(\"Test Result:\\n\")        \n",
    "        print(\"accuracy score: {0:.4f}\\n\".format(accuracy_score(y_test, clf.predict(X_test))))\n",
    "        print(\"Classification Report: \\n {}\\n\".format(classification_report(y_test, clf.predict(X_test))))\n",
    "        print(\"Confusion Matrix: \\n {}\\n\".format(confusion_matrix(y_test, clf.predict(X_test))))"
   ]
  },
  {
   "cell_type": "markdown",
   "metadata": {},
   "source": [
    "__Logistic Regression as Baseline model__"
   ]
  },
  {
   "cell_type": "code",
   "execution_count": 20,
   "metadata": {},
   "outputs": [
    {
     "data": {
      "text/plain": [
       "LogisticRegression(C=0.0001, random_state=21)"
      ]
     },
     "execution_count": 20,
     "metadata": {},
     "output_type": "execute_result"
    }
   ],
   "source": [
    "from sklearn.linear_model import LogisticRegression\n",
    "\n",
    "log_reg = LogisticRegression(C = 0.0001,random_state=21)\n",
    "\n",
    "log_reg.fit(x_train, y_train)"
   ]
  },
  {
   "cell_type": "code",
   "execution_count": 21,
   "metadata": {},
   "outputs": [
    {
     "name": "stdout",
     "output_type": "stream",
     "text": [
      "Test Result:\n",
      "\n",
      "accuracy score: 0.6139\n",
      "\n",
      "Classification Report: \n",
      "               precision    recall  f1-score   support\n",
      "\n",
      "           0       0.67      0.44      0.53     10569\n",
      "           1       0.59      0.79      0.67     10605\n",
      "\n",
      "    accuracy                           0.61     21174\n",
      "   macro avg       0.63      0.61      0.60     21174\n",
      "weighted avg       0.63      0.61      0.60     21174\n",
      "\n",
      "\n",
      "Confusion Matrix: \n",
      " [[4657 5912]\n",
      " [2264 8341]]\n",
      "\n"
     ]
    }
   ],
   "source": [
    "from sklearn.metrics import classification_report\n",
    "print_score(log_reg, x_train, y_train, x_test, y_test, train=False)"
   ]
  },
  {
   "cell_type": "code",
   "execution_count": 22,
   "metadata": {},
   "outputs": [
    {
     "name": "stdout",
     "output_type": "stream",
     "text": [
      "Accuracy is:  0.6138660621516955\n",
      "              precision    recall  f1-score   support\n",
      "\n",
      "           0       0.67      0.44      0.53     10569\n",
      "           1       0.59      0.79      0.67     10605\n",
      "\n",
      "    accuracy                           0.61     21174\n",
      "   macro avg       0.63      0.61      0.60     21174\n",
      "weighted avg       0.63      0.61      0.60     21174\n",
      "\n"
     ]
    },
    {
     "data": {
      "image/png": "[encoded data removed]",
      "text/plain": [
       "<Figure size 432x288 with 2 Axes>"
      ]
     },
     "metadata": {
      "needs_background": "light"
     },
     "output_type": "display_data"
    }
   ],
   "source": [
    "#logistic regression\n",
    "from sklearn.linear_model import LogisticRegression\n",
    "from sklearn.metrics import accuracy_score, confusion_matrix\n",
    "from sklearn.metrics import classification_report\n",
    "lg_model=LogisticRegression()\n",
    "lg_model.fit(x_train,y_train)\n",
    "score=lg_model.score(x_test,y_test)\n",
    "\n",
    "\n",
    "y_pred=lg_model.predict(x_test)\n",
    "log_ac = accuracy_score(y_test,y_pred)\n",
    "print('Accuracy is: ',log_ac)\n",
    "\n",
    "cm = confusion_matrix(y_test, y_pred)\n",
    "sns.heatmap(cm,annot=True,fmt=\"d\");\n",
    "print(classification_report(y_test, y_pred))"
   ]
  },
  {
   "cell_type": "code",
   "execution_count": null,
   "metadata": {},
   "outputs": [],
   "source": []
  }
 ],
 "metadata": {
  "kernelspec": {
   "display_name": "Python 3",
   "language": "python",
   "name": "python3"
  },
  "language_info": {
   "codemirror_mode": {
    "name": "ipython",
    "version": 3
   },
   "file_extension": ".py",
   "mimetype": "text/x-python",
   "name": "python",
   "nbconvert_exporter": "python",
   "pygments_lexer": "ipython3",
   "version": "3.8.3"
  }
 },
 "nbformat": 4,
 "nbformat_minor": 4
}
