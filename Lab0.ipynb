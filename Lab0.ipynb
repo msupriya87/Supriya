{
  "nbformat": 4,
  "nbformat_minor": 0,
  "metadata": {
    "colab": {
      "name": "Lab0.ipynb",
      "provenance": [],
      "collapsed_sections": []
    },
    "kernelspec": {
      "name": "python3",
      "display_name": "Python 3"
    }
  },
  "cells": [
    {
      "cell_type": "code",
      "metadata": {
        "id": "aMCdgQhAk54r",
        "colab_type": "code",
        "colab": {
          "base_uri": "https://localhost:8080/",
          "height": 296
        },
        "outputId": "8945168b-7ead-4ef2-bdd8-80911ef4546b"
      },
      "source": [
        "# My first Python program\n",
        "%matplotlib inline\n",
        "import matplotlib.pyplot as plt\n",
        "month = [\"Jan\", \"Feb\", \"Mar\", \"Apr\"]\n",
        "sales = [50, 100, 200, 300]\n",
        "\n",
        "plt.bar(month, sales)\n",
        "plt.xlabel('Month')\n",
        "plt.ylabel('Sales ($k)')"
      ],
      "execution_count": 7,
      "outputs": [
        {
          "output_type": "execute_result",
          "data": {
            "text/plain": [
              "Text(0, 0.5, 'Sales ($k)')"
            ]
          },
          "metadata": {
            "tags": []
          },
          "execution_count": 7
        },
        {
          "output_type": "display_data",
          "data": {
            "image/png": "[encoded data removed]",
            "text/plain": [
              "<Figure size 432x288 with 1 Axes>"
            ]
          },
          "metadata": {
            "tags": [],
            "needs_background": "light"
          }
        }
      ]
    },
    {
      "cell_type": "code",
      "metadata": {
        "id": "_4-IbglNlx5m",
        "colab_type": "code",
        "colab": {}
      },
      "source": [
        ""
      ],
      "execution_count": null,
      "outputs": []
    }
  ]
}